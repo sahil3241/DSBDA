{
 "cells": [
  {
   "cell_type": "code",
   "execution_count": 1,
   "metadata": {},
   "outputs": [
    {
     "name": "stderr",
     "output_type": "stream",
     "text": [
      "[nltk_data] Downloading package punkt to\n",
      "[nltk_data]     C:\\Users\\Sahil\\AppData\\Roaming\\nltk_data...\n",
      "[nltk_data]   Unzipping tokenizers\\punkt.zip.\n"
     ]
    },
    {
     "data": {
      "text/plain": [
       "True"
      ]
     },
     "execution_count": 1,
     "metadata": {},
     "output_type": "execute_result"
    }
   ],
   "source": [
    "import nltk\n",
    "nltk.download('punkt')"
   ]
  },
  {
   "cell_type": "code",
   "execution_count": 3,
   "metadata": {},
   "outputs": [],
   "source": [
    "from nltk.tokenize import word_tokenize,  sent_tokenize, TreebankWordTokenizer, wordpunct_tokenize, TweetTokenizer, MWETokenizer"
   ]
  },
  {
   "cell_type": "code",
   "execution_count": 51,
   "metadata": {},
   "outputs": [],
   "source": [
    "text1 = \"Better Success doesn't come from what you do occasionally but what you do consistently.\"\n",
    "text2 = \"Future belongs to those who believe in the beauty of their dreams.\""
   ]
  },
  {
   "cell_type": "code",
   "execution_count": 5,
   "metadata": {},
   "outputs": [
    {
     "name": "stdout",
     "output_type": "stream",
     "text": [
      "['Success', 'does', \"n't\", 'come', 'from', 'what', 'you', 'do', 'occasionally', 'but', 'what', 'you', 'do', 'consistently', '.']\n",
      "[\"Success doesn't come from what you do occasionally but what you do consistently.\"]\n",
      "['S', 'u', 'c', 'c', 'e', 's', 's', ' ', 'd', 'o', 'e', 's', 'n', \"'\", 't', ' ', 'c', 'o', 'm', 'e', ' ', 'f', 'r', 'o', 'm', ' ', 'w', 'h', 'a', 't', ' ', 'y', 'o', 'u', ' ', 'd', 'o', ' ', 'o', 'c', 'c', 'a', 's', 'i', 'o', 'n', 'a', 'l', 'l', 'y', ' ', 'b', 'u', 't', ' ', 'w', 'h', 'a', 't', ' ', 'y', 'o', 'u', ' ', 'd', 'o', ' ', 'c', 'o', 'n', 's', 'i', 's', 't', 'e', 'n', 't', 'l', 'y', '.']\n"
     ]
    }
   ],
   "source": [
    "word_token1 = word_tokenize(text1)\n",
    "print(word_token1)\n",
    "sent_token1 = sent_tokenize(text1)\n",
    "print(sent_token1)\n",
    "\n",
    "char_token1 = list(text1)\n",
    "print(char_token1)"
   ]
  },
  {
   "cell_type": "code",
   "execution_count": 7,
   "metadata": {},
   "outputs": [
    {
     "name": "stdout",
     "output_type": "stream",
     "text": [
      "15\n",
      "1\n",
      "80\n"
     ]
    }
   ],
   "source": [
    "print(len(word_token1))\n",
    "print(len(sent_token1))\n",
    "print(len(char_token1))"
   ]
  },
  {
   "cell_type": "code",
   "execution_count": 8,
   "metadata": {},
   "outputs": [],
   "source": [
    "from nltk.tokenize import WhitespaceTokenizer"
   ]
  },
  {
   "cell_type": "code",
   "execution_count": 9,
   "metadata": {},
   "outputs": [],
   "source": [
    "tk = WhitespaceTokenizer()"
   ]
  },
  {
   "cell_type": "code",
   "execution_count": 10,
   "metadata": {},
   "outputs": [],
   "source": [
    "data= \"Like a flower in the dessert, I have to grow in the cruelest weather. Holding on to every drop of rain, just to stay alive. But it’s not enough to survive, I want to bloom beneath the blazing sun. And show y'all the colours that live inside of me. I want you tsee what I can become. ‘Christy Ann Martine’\""
   ]
  },
  {
   "cell_type": "code",
   "execution_count": 11,
   "metadata": {},
   "outputs": [],
   "source": [
    "df = tk.tokenize(data)"
   ]
  },
  {
   "cell_type": "code",
   "execution_count": 12,
   "metadata": {},
   "outputs": [
    {
     "data": {
      "text/plain": [
       "['Like',\n",
       " 'a',\n",
       " 'flower',\n",
       " 'in',\n",
       " 'the',\n",
       " 'dessert,',\n",
       " 'I',\n",
       " 'have',\n",
       " 'to',\n",
       " 'grow',\n",
       " 'in',\n",
       " 'the',\n",
       " 'cruelest',\n",
       " 'weather.',\n",
       " 'Holding',\n",
       " 'on',\n",
       " 'to',\n",
       " 'every',\n",
       " 'drop',\n",
       " 'of',\n",
       " 'rain,',\n",
       " 'just',\n",
       " 'to',\n",
       " 'stay',\n",
       " 'alive.',\n",
       " 'But',\n",
       " 'it’s',\n",
       " 'not',\n",
       " 'enough',\n",
       " 'to',\n",
       " 'survive,',\n",
       " 'I',\n",
       " 'want',\n",
       " 'to',\n",
       " 'bloom',\n",
       " 'beneath',\n",
       " 'the',\n",
       " 'blazing',\n",
       " 'sun.',\n",
       " 'And',\n",
       " 'show',\n",
       " \"y'all\",\n",
       " 'the',\n",
       " 'colours',\n",
       " 'that',\n",
       " 'live',\n",
       " 'inside',\n",
       " 'of',\n",
       " 'me.',\n",
       " 'I',\n",
       " 'want',\n",
       " 'you',\n",
       " 'tsee',\n",
       " 'what',\n",
       " 'I',\n",
       " 'can',\n",
       " 'become.',\n",
       " '‘Christy',\n",
       " 'Ann',\n",
       " 'Martine’']"
      ]
     },
     "execution_count": 12,
     "metadata": {},
     "output_type": "execute_result"
    }
   ],
   "source": [
    "df"
   ]
  },
  {
   "cell_type": "code",
   "execution_count": 13,
   "metadata": {},
   "outputs": [
    {
     "data": {
      "text/plain": [
       "['Success',\n",
       " 'doesn',\n",
       " \"'\",\n",
       " 't',\n",
       " 'come',\n",
       " 'from',\n",
       " 'what',\n",
       " 'you',\n",
       " 'do',\n",
       " 'occasionally',\n",
       " 'but',\n",
       " 'what',\n",
       " 'you',\n",
       " 'do',\n",
       " 'consistently',\n",
       " '.']"
      ]
     },
     "execution_count": 13,
     "metadata": {},
     "output_type": "execute_result"
    }
   ],
   "source": [
    "wordpunct_tokenize(text1)"
   ]
  },
  {
   "cell_type": "code",
   "execution_count": 16,
   "metadata": {},
   "outputs": [
    {
     "data": {
      "text/plain": [
       "['Success',\n",
       " 'does',\n",
       " \"n't\",\n",
       " 'come',\n",
       " 'from',\n",
       " 'what',\n",
       " 'you',\n",
       " 'do',\n",
       " 'occasionally',\n",
       " 'but',\n",
       " 'what',\n",
       " 'you',\n",
       " 'do',\n",
       " 'consistently',\n",
       " '.']"
      ]
     },
     "execution_count": 16,
     "metadata": {},
     "output_type": "execute_result"
    }
   ],
   "source": [
    "token = TreebankWordTokenizer()\n",
    "token.tokenize(text1)"
   ]
  },
  {
   "cell_type": "code",
   "execution_count": 17,
   "metadata": {},
   "outputs": [
    {
     "data": {
      "text/plain": [
       "['Success',\n",
       " \"doesn't\",\n",
       " 'come',\n",
       " 'from',\n",
       " 'what',\n",
       " 'you',\n",
       " 'do',\n",
       " 'occasionally',\n",
       " 'but',\n",
       " 'what',\n",
       " 'you',\n",
       " 'do',\n",
       " 'consistently',\n",
       " '.']"
      ]
     },
     "execution_count": 17,
     "metadata": {},
     "output_type": "execute_result"
    }
   ],
   "source": [
    "token = TweetTokenizer()\n",
    "token.tokenize(text1)"
   ]
  },
  {
   "cell_type": "code",
   "execution_count": 19,
   "metadata": {},
   "outputs": [
    {
     "name": "stdout",
     "output_type": "stream",
     "text": [
      "Collecting textblob\n",
      "  Downloading textblob-0.18.0.post0-py3-none-any.whl.metadata (4.5 kB)\n",
      "Requirement already satisfied: nltk>=3.8 in c:\\python312\\lib\\site-packages (from textblob) (3.8.1)\n",
      "Requirement already satisfied: click in c:\\python312\\lib\\site-packages (from nltk>=3.8->textblob) (8.1.7)\n",
      "Requirement already satisfied: joblib in c:\\python312\\lib\\site-packages (from nltk>=3.8->textblob) (1.4.0)\n",
      "Requirement already satisfied: regex>=2021.8.3 in c:\\python312\\lib\\site-packages (from nltk>=3.8->textblob) (2023.12.25)\n",
      "Requirement already satisfied: tqdm in c:\\python312\\lib\\site-packages (from nltk>=3.8->textblob) (4.66.2)\n",
      "Requirement already satisfied: colorama in c:\\users\\sahil\\appdata\\roaming\\python\\python312\\site-packages (from click->nltk>=3.8->textblob) (0.4.6)\n",
      "Downloading textblob-0.18.0.post0-py3-none-any.whl (626 kB)\n",
      "   ---------------------------------------- 0.0/626.3 kB ? eta -:--:--\n",
      "    --------------------------------------- 10.2/626.3 kB ? eta -:--:--\n",
      "    --------------------------------------- 10.2/626.3 kB ? eta -:--:--\n",
      "   -- ------------------------------------ 41.0/626.3 kB 393.8 kB/s eta 0:00:02\n",
      "   -------- ----------------------------- 143.4/626.3 kB 950.9 kB/s eta 0:00:01\n",
      "   -------------------- ------------------- 317.4/626.3 kB 1.6 MB/s eta 0:00:01\n",
      "   ----------------------------------- ---- 563.2/626.3 kB 2.4 MB/s eta 0:00:01\n",
      "   ---------------------------------------- 626.3/626.3 kB 2.5 MB/s eta 0:00:00\n",
      "Installing collected packages: textblob\n",
      "Successfully installed textblob-0.18.0.post0\n",
      "Note: you may need to restart the kernel to use updated packages.\n"
     ]
    }
   ],
   "source": [
    "pip install textblob"
   ]
  },
  {
   "cell_type": "code",
   "execution_count": 20,
   "metadata": {},
   "outputs": [],
   "source": [
    "from textblob import TextBlob"
   ]
  },
  {
   "cell_type": "code",
   "execution_count": 22,
   "metadata": {},
   "outputs": [
    {
     "data": {
      "text/plain": [
       "WordList(['Success', 'does', \"n't\", 'come', 'from', 'what', 'you', 'do', 'occasionally', 'but', 'what', 'you', 'do', 'consistently'])"
      ]
     },
     "execution_count": 22,
     "metadata": {},
     "output_type": "execute_result"
    }
   ],
   "source": [
    "blob = TextBlob(text1)\n",
    "text_words = blob.words\n",
    "text_words"
   ]
  },
  {
   "cell_type": "code",
   "execution_count": 25,
   "metadata": {},
   "outputs": [],
   "source": [
    "from nltk.stem import WordNetLemmatizer"
   ]
  },
  {
   "cell_type": "code",
   "execution_count": 43,
   "metadata": {},
   "outputs": [
    {
     "name": "stderr",
     "output_type": "stream",
     "text": [
      "[nltk_data] Downloading package wordnet to\n",
      "[nltk_data]     C:\\Users\\Sahil\\AppData\\Roaming\\nltk_data...\n"
     ]
    },
    {
     "data": {
      "text/plain": [
       "True"
      ]
     },
     "execution_count": 43,
     "metadata": {},
     "output_type": "execute_result"
    }
   ],
   "source": [
    "nltk.download('wordnet')"
   ]
  },
  {
   "cell_type": "code",
   "execution_count": 35,
   "metadata": {},
   "outputs": [],
   "source": [
    "lemmas = WordNetLemmatizer()"
   ]
  },
  {
   "cell_type": "code",
   "execution_count": 52,
   "metadata": {},
   "outputs": [
    {
     "data": {
      "text/plain": [
       "['Better',\n",
       " 'Success',\n",
       " \"doesn't\",\n",
       " 'come',\n",
       " 'from',\n",
       " 'what',\n",
       " 'you',\n",
       " 'do',\n",
       " 'occasionally',\n",
       " 'but',\n",
       " 'what',\n",
       " 'you',\n",
       " 'do',\n",
       " 'consistently.']"
      ]
     },
     "execution_count": 52,
     "metadata": {},
     "output_type": "execute_result"
    }
   ],
   "source": [
    "def stem_words(text):\n",
    "    word_token = text.split()\n",
    "    stems = [lemmas.lemmatize(word) for word in word_token]\n",
    "    return stems\n",
    "\n",
    "stem_words(text1)"
   ]
  },
  {
   "cell_type": "code",
   "execution_count": 53,
   "metadata": {},
   "outputs": [
    {
     "name": "stderr",
     "output_type": "stream",
     "text": [
      "[nltk_data] Downloading package averaged_perceptron_tagger to\n",
      "[nltk_data]     C:\\Users\\Sahil\\AppData\\Roaming\\nltk_data...\n",
      "[nltk_data]   Unzipping taggers\\averaged_perceptron_tagger.zip.\n"
     ]
    },
    {
     "data": {
      "text/plain": [
       "True"
      ]
     },
     "execution_count": 53,
     "metadata": {},
     "output_type": "execute_result"
    }
   ],
   "source": [
    "nltk.download('averaged_perceptron_tagger')"
   ]
  },
  {
   "cell_type": "code",
   "execution_count": 54,
   "metadata": {},
   "outputs": [],
   "source": [
    "from nltk import word_tokenize, pos_tag"
   ]
  },
  {
   "cell_type": "code",
   "execution_count": 55,
   "metadata": {},
   "outputs": [
    {
     "data": {
      "text/plain": [
       "[('Better', 'NNP'),\n",
       " ('Success', 'NNP'),\n",
       " ('does', 'VBZ'),\n",
       " (\"n't\", 'RB'),\n",
       " ('come', 'VB'),\n",
       " ('from', 'IN'),\n",
       " ('what', 'WP'),\n",
       " ('you', 'PRP'),\n",
       " ('do', 'VBP'),\n",
       " ('occasionally', 'RB'),\n",
       " ('but', 'CC'),\n",
       " ('what', 'WP'),\n",
       " ('you', 'PRP'),\n",
       " ('do', 'VBP'),\n",
       " ('consistently', 'RB'),\n",
       " ('.', '.')]"
      ]
     },
     "execution_count": 55,
     "metadata": {},
     "output_type": "execute_result"
    }
   ],
   "source": [
    "pos_tag(word_tokenize(text1))"
   ]
  }
 ],
 "metadata": {
  "kernelspec": {
   "display_name": "Python 3",
   "language": "python",
   "name": "python3"
  },
  "language_info": {
   "codemirror_mode": {
    "name": "ipython",
    "version": 3
   },
   "file_extension": ".py",
   "mimetype": "text/x-python",
   "name": "python",
   "nbconvert_exporter": "python",
   "pygments_lexer": "ipython3",
   "version": "3.12.1"
  }
 },
 "nbformat": 4,
 "nbformat_minor": 2
}
